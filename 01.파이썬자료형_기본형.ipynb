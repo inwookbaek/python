{
 "cells": [
  {
   "cell_type": "markdown",
   "metadata": {},
   "source": [
    "### A. 파이썬개요\n",
    "\n",
    "#### 1. 파이썬의 개요\n",
    "\n",
    "1. 1989.12월에 네덜란드 출신의 개발자 귀도 반 로섬(Guido Van Rossum)이 성탄절을 의미있게 보내기위해\n",
    "   취미로 만든 인터프리터 프로그램언어이다.\n",
    "2. 파이썬이라는 이름은 자신이 좋아하는 코미디쇼인 \"몬티 파이썬의 날아다니는 써커스\"에서 따왔다고 한다.\n",
    "3. 파이썬의 사전적의미는 고대신화에 나오는 파르나소스산의 동굴에 살던 큰 뱀이라는 뜻이며 아폴로 신이\n",
    "   파이썬을 퇴치했다는 이야기도 있다.\n",
    "4. 파이썬이 사용된 대표적인 사례\n",
    " - 구글 : C++, Java, Python을 사용, 구글의 내부시스템과 많은 구글의 API들이 파이썬으로 작성 \n",
    " - 유투브\n",
    " - 드롭박스\n",
    " - 페이스북\n",
    " - 인스타그램\n",
    "\n",
    "#### 2. 파이썬의 라이브러리(패키지)\n",
    "\n",
    "1. Numpy      : 수치계산용 라이브러리, https://numpy.org/\n",
    "2. Pandas     : 데이터분석용 라이브러리, https://pandas.pydata.org/\n",
    "3. Matplotlib : 시각화(그래프출력용) 라이브러리, https://matplotlib.org/\n",
    "4. 기타 : scipy, sickit-learn, tensorflow, kears 등등...\n",
    "\n",
    "#### 3. 파이썬의 특징\n",
    "\n",
    "1. 파이썬은 인간다운 언언\n",
    "2. 파이썬은 문법이 쉬워서 빠르게 배울 수 있다.\n",
    "3. 파이썬은 무료이지만 강력한 언어이다.\n",
    "4. 파이썬은 간결하다.\n",
    "5. 파이썬은 개발속도가 빠르다.\n",
    "\n",
    "#### 4. 참고사이트\n",
    "\n",
    "1. 파이썬의 순위 : https://tiobe.com/tiobe-index\n",
    "2. 파이썬의 추세 : https://stackoverflow.blog/2017/09/06/incredible-growth-python/\n",
    "\n",
    "#### 5. Jupyter Notebook 단축키\n",
    "\n",
    "1. 셀나누기   : `ctrl + shift + -`\n",
    "2. 셀실행하기 : `ctrl + enter`, `shift + enter`,`alt + enter`\n",
    "3. 불럭주석   : `ctrl + /`"
   ]
  },
  {
   "cell_type": "markdown",
   "metadata": {},
   "source": [
    "### B. 파이썬의 기본문법\n",
    "\n",
    "#### 1. 세미콜론"
   ]
  },
  {
   "cell_type": "code",
   "execution_count": 5,
   "metadata": {},
   "outputs": [
    {
     "name": "stdout",
     "output_type": "stream",
     "text": [
      "Hello \n",
      "Python\n"
     ]
    }
   ],
   "source": [
    "# 파이썬은 기본적으로 세미콜론을 붙이지 않는다.\n",
    "# 단, 세미콜론을 붙여도 문법에러는 발생하지 않는다.\n",
    "# 보통 한 줄에 여러 구문을 사용할 때 세미콜론으로 구분한다.\n",
    "print(\"Hello\"); print(\"Python\")"
   ]
  },
  {
   "cell_type": "markdown",
   "metadata": {},
   "source": [
    "#### 2. 주석\n",
    "\n",
    "* 주석은 한줄 주석은 `#`로 시작하고 여러줄 주석은 `'''` or `\"\"\"`으로 시작하고 끝을 맺는다.\n",
    "* 파이썬에서는 문자열을 `작은 따옴표(')` or `큰 따옴표(\")`는 구분하지 않는다."
   ]
  },
  {
   "cell_type": "code",
   "execution_count": 10,
   "metadata": {},
   "outputs": [
    {
     "data": {
      "text/plain": [
       "'\\na = 1 + 2\\nprint(\"Hello Python\")\\n'"
      ]
     },
     "execution_count": 10,
     "metadata": {},
     "output_type": "execute_result"
    }
   ],
   "source": [
    "# 한줄주석\n",
    "# 더하기\n",
    "# 1 + 2\n",
    "# print('Hello Python')\n",
    "\n",
    "# 여러줄 주석\n",
    "\"\"\"\n",
    "a = 1 + 2\n",
    "print(\"Hello Python\")\n",
    "\"\"\""
   ]
  },
  {
   "cell_type": "markdown",
   "metadata": {},
   "source": [
    "#### 3. 들여쓰기\n",
    "<img src=\"./images/01.파이썬자료형_기본형_01.PNG\" width=\"500\" height=\"400\">  \n",
    "파이썬은 공백 2칸, 공백 4칸, 탭문자등을 각각 사용해서 블럭을 구분한다. 들여쓰기를 해서 코딩의 블럭을 구분해도 되지만\n",
    "`파이썬 코딩 스타일 가이드(PEP8)에서는 공백 4칸으로 규정`하고 있다. 따라서 블럭구분을 하려면 공백4칸을 사용하는 것을\n",
    "관례로 한다.\n",
    "\n",
    "<img src=\"./images/01.파이썬자료형_기본형_02.PNG\" width=\"500\" height=\"400\">  \n",
    "코드 블럭은 틀정한 동작을 위해서 코드가 모여 있는 상태를 뜻하며 파이썬은 들여쓰기를 기준으로 코드 불럭을 구성한다. \n",
    "단, 같은 블럭은 들여쓰기 칸 수가 같아야 하고 공백과 탭을 섞어 쓰면 안된다."
   ]
  },
  {
   "cell_type": "markdown",
   "metadata": {},
   "source": [
    "### C. 자료형\n",
    "\n",
    "#### 1. 숫자형\n",
    "\n",
    "파이썬에서는 숫자의 자료형에 따라 결과가 달라질 수가 있으므로 이 부분은 정확하게 구분할 필요가 있다. 다음과 같이 파이썬에서는 `숫자를 정수(int), 실수(float), 복소수(comples)`로 구분한다.\n",
    "\n",
    "<img src=\"./images/01.파이썬자료형_기본형_03_숫자자료형.PNG\" width=\"500\" height=\"400\"> "
   ]
  },
  {
   "cell_type": "markdown",
   "metadata": {},
   "source": [
    "##### 1) int\n",
    "\n",
    "정수형(Integer)으로서 양의 정수, 음의 정수 그리고 0으로 정의할 수 있다."
   ]
  },
  {
   "cell_type": "code",
   "execution_count": 2,
   "metadata": {},
   "outputs": [
    {
     "name": "stdout",
     "output_type": "stream",
     "text": [
      "1\n",
      "-1\n",
      "0\n",
      "Variable   Type    Data/Info\n",
      "----------------------------\n",
      "a          int     1\n",
      "b          int     -1\n",
      "c          int     0\n",
      "1\n",
      "-1\n",
      "0\n",
      "1 -1 0\n",
      "<class 'int'>\n",
      "============================================\n",
      "================================================================================\n",
      "<class 'str'>\n",
      "<class 'builtin_function_or_method'>\n",
      "djdjdjdjdj\n",
      "<class 'int'>\n"
     ]
    }
   ],
   "source": [
    "a = 1\n",
    "b = -1\n",
    "c = 0\n",
    "a\n",
    "b\n",
    "c\n",
    "print(a)\n",
    "print(b)\n",
    "print(c)\n",
    "\n",
    "# 현재 namespace에서 사요중인 변수, 함수등의 내용을 출력하기\n",
    "%whos\n",
    "\n",
    "# 한줄에 여러구문을 사용하기\n",
    "print(a);print(b);print(c) \n",
    "\n",
    "# 여러변수의 내용을 한번에 출력하기\n",
    "print(a, b, c)\n",
    "\n",
    "# type()함수 : 변수의 자료형를 확인하기\n",
    "type(a)\n",
    "print(type(a))\n",
    "\n",
    "# 함수 : 함수명(), print(), type()\n",
    "print(\"============================================\")\n",
    "print(\"=\"*80)\n",
    "\n",
    "a = '문자열'\n",
    "print(type(a))\n",
    "\n",
    "a = print\n",
    "print(type(a))\n",
    "a('djdjdjdjdj')\n",
    "a = 1\n",
    "print(type(a))\n",
    "\n",
    "# 아래명령은 에러는 나지 않지만 내장함수인 print(함수)가 int타입인 print(변수)로 재정의 되어\n",
    "# 현재 세션동안에는 print는 함수로 사용할 수가 없고 정수인 변수로 사용된다.\n",
    "# print함수로 복원을 하려면 현재 세션을 닫고 다시 세션을 오픈하면 사용할 수 있다.\n",
    "# print(type(print))\n",
    "# print = 1\n",
    "# type(print) # int\n",
    "# print('akakak')"
   ]
  },
  {
   "cell_type": "markdown",
   "metadata": {},
   "source": [
    "##### 2) float\n",
    "\n",
    "실수형(Floating-point)으로서 소수점을 가지는 숫자를 정의할 수 있다. 실수와 정수를 함께 사용하면 표현 범위가 넓은 실수로 계산된다. 즉, 실수가 정수보다 표현범위가 넓기 때문에 실수와 정수의 결과는 실수로 처리된다.\n",
    "\n",
    "<img src=\"./images/01.파이썬자료형_기본형_04_숫자자료형.PNG\" width=\"500\" height=\"400\"> "
   ]
  },
  {
   "cell_type": "code",
   "execution_count": 11,
   "metadata": {},
   "outputs": [
    {
     "name": "stdout",
     "output_type": "stream",
     "text": [
      "1.2 -3.14\n",
      "<class 'float'>\n",
      "127 2303\n",
      "<class 'int'>,<class 'int'>,<class 'float'>\n",
      "\n",
      "<class 'float'>\n"
     ]
    }
   ],
   "source": [
    "d = 1.2\n",
    "e = -3.14\n",
    "print(d, e)\n",
    "# d?\n",
    "print(type(d))\n",
    "\n",
    "# 8진수, 16진수\n",
    "# 8진수 0o 또는 0O로 시작, 16진수는 0x 또는 0X로 시작\n",
    "f = 0o177\n",
    "g = 0x8ff\n",
    "print(f, g)\n",
    "print(type(f), type(g), type(a), sep=',')\n",
    "print()\n",
    "a = 3.141592\n",
    "print(type(a))"
   ]
  },
  {
   "cell_type": "markdown",
   "metadata": {},
   "source": [
    "##### 3) complex(복소수)\n",
    "\n",
    "복소수형으로서 복소스를 정의하는데에는 2가지 방법으로 정의할 수 있다.\n",
    "1. 복소수란? a+bi로 나타낼 수 있는 숫자로 `a는 실수부`, `b는 허수부`로 나타낸다.\n",
    "2. 수학교과서에서는 `허수단위를 i`로 사용했지만 파이썬에서는 `소문자 j or 대문자 J`로 사용한다."
   ]
  },
  {
   "cell_type": "code",
   "execution_count": 16,
   "metadata": {},
   "outputs": [
    {
     "name": "stdout",
     "output_type": "stream",
     "text": [
      "(1+3j) <class 'complex'>\n",
      "1.0 3.0\n"
     ]
    }
   ],
   "source": [
    "# complex(실수부, 허수부)함수 : 복소수를 정의하는 함수\n",
    "# complex?\n",
    "a = complex(1, 3)\n",
    "print(a, type(a))\n",
    "\n",
    "# 복소수의 실수부와 허수부를 확인하기위해서는 복소수의 속성 real, imag을 사용한다.\n",
    "print(a.real, a.imag)"
   ]
  },
  {
   "cell_type": "markdown",
   "metadata": {},
   "source": [
    "##### 4) 숫자형을 활용하기 위한 연산자\n",
    "\n",
    "숫자에 대한 연산은 `+, -, *, /, **, %, //`연산자를 활용하여 숫자형자료의 연산을 수행한다.\n",
    "1. 사칙연산자 : `+, -, *, /`\n",
    "2. 제곱연산자 : `**`\n",
    "3. 나머지연산 : `%`\n",
    "4. 나눗셈결과 나머지를 버리는 연산자 : `//`, 주의할 점은 정수형과 실수형의 결과 상이하다. "
   ]
  },
  {
   "cell_type": "code",
   "execution_count": 25,
   "metadata": {},
   "outputs": [
    {
     "name": "stdout",
     "output_type": "stream",
     "text": [
      "더하기 =  2\n",
      "빼기   =  0\n",
      "곱하기 =  2\n",
      "나누기 =  5.0\n",
      "\n",
      "나머지 연산 =  3\n",
      "몫만 반환하는 연산 =  1\n",
      "몫만 반환하는 연산 =  1.0\n",
      "\n",
      "부호연산자 =  -1\n",
      "부호연산자 =  1\n",
      "\n",
      "제곱연산자 =  8\n"
     ]
    }
   ],
   "source": [
    "# 사칙연산\n",
    "print('더하기 = ', 1+1)\n",
    "print('빼기   = ', 1-1)\n",
    "print('곱하기 = ', 1*2)\n",
    "print('나누기 = ', 10/2)\n",
    "print()\n",
    "\n",
    "# 나머지연산\n",
    "print(\"나머지 연산 = \", 7%4)\n",
    "print(\"몫만 반환하는 연산 = \", 7//4)\n",
    "print(\"몫만 반환하는 연산 = \", 7.0//4)\n",
    "print()\n",
    "\n",
    "# 부호연산자\n",
    "x = 1\n",
    "print(\"부호연산자 = \", -x)\n",
    "print(\"부호연산자 = \", +x)\n",
    "print()\n",
    "\n",
    "# 제곱연산자\n",
    "print(\"제곱연산자 = \", 2**3)"
   ]
  },
  {
   "cell_type": "markdown",
   "metadata": {},
   "source": [
    "##### 5) 숫자형 관련 함수\n",
    "\n",
    "* abs()        : 절대값\n",
    "* int()        : 실수를 정수로 변환해 주는 함수\n",
    "* float()      : 정수를 실수로 변환해 주는 함수\n",
    "* divmod(x, y) : `x//y`와 `x%y`의 결과를 한쌍으로 반환해주는 함수\n",
    "* pow(x, y)    : `x**y`의 결과값을 반환"
   ]
  },
  {
   "cell_type": "code",
   "execution_count": 28,
   "metadata": {},
   "outputs": [
    {
     "name": "stdout",
     "output_type": "stream",
     "text": [
      "['__abs__', '__add__', '__and__', '__bool__', '__ceil__', '__class__', '__delattr__', '__dir__', '__divmod__', '__doc__', '__eq__', '__float__', '__floor__', '__floordiv__', '__format__', '__ge__', '__getattribute__', '__getnewargs__', '__gt__', '__hash__', '__index__', '__init__', '__init_subclass__', '__int__', '__invert__', '__le__', '__lshift__', '__lt__', '__mod__', '__mul__', '__ne__', '__neg__', '__new__', '__or__', '__pos__', '__pow__', '__radd__', '__rand__', '__rdivmod__', '__reduce__', '__reduce_ex__', '__repr__', '__rfloordiv__', '__rlshift__', '__rmod__', '__rmul__', '__ror__', '__round__', '__rpow__', '__rrshift__', '__rshift__', '__rsub__', '__rtruediv__', '__rxor__', '__setattr__', '__sizeof__', '__str__', '__sub__', '__subclasshook__', '__truediv__', '__trunc__', '__xor__', 'bit_length', 'conjugate', 'denominator', 'from_bytes', 'imag', 'numerator', 'real', 'to_bytes']\n"
     ]
    }
   ],
   "source": [
    "type(f) # int 객체\n",
    "print(dir(f))"
   ]
  },
  {
   "cell_type": "code",
   "execution_count": 35,
   "metadata": {},
   "outputs": [
    {
     "name": "stdout",
     "output_type": "stream",
     "text": [
      "절대값 =  1\n",
      "정수변환 =  3\n",
      "실수변환 =  3.0\n",
      "몫과 나머지 =  (1, 3)\n",
      "제곱근 =  8\n"
     ]
    }
   ],
   "source": [
    "print('절대값 = ', abs(-1))\n",
    "print('정수변환 = ', int(3.14))\n",
    "print('실수변환 = ', float(3))\n",
    "print('몫과 나머지 = ', divmod(7, 4))\n",
    "print(\"제곱근 = \", pow(2,3))"
   ]
  },
  {
   "cell_type": "markdown",
   "metadata": {},
   "source": [
    "#### 2. 문자형(문자열)\n",
    "\n",
    "문자열(String, str)이란 문자의 집합을 의미한다. 파이썬에서는 문잘열은 `작은 따옴표('), 큰 따옴표(\")`구분 없이 정의한다. 또한 여러줄로 문자열 정의할 경우에는 `큰 따옴표 3개를 연속해서 감싸서 정의`하는 방법이 있다."
   ]
  },
  {
   "cell_type": "markdown",
   "metadata": {},
   "source": [
    "#### 1) 문자열 정의방법"
   ]
  },
  {
   "cell_type": "code",
   "execution_count": 38,
   "metadata": {},
   "outputs": [
    {
     "name": "stdout",
     "output_type": "stream",
     "text": [
      "문자열 정의 방법(1) - 작은 따옴표, 문자열 정의 방법(2) - 큰 따옴표, 문자열 정의 방법(3) -\n",
      "연속으로 3개의 큰 따옴표\n",
      "\n",
      "<class 'str'>, <class 'str'>, <class 'str'>\n"
     ]
    }
   ],
   "source": [
    "a = '문자열 정의 방법(1) - 작은 따옴표'\n",
    "b = \"문자열 정의 방법(2) - 큰 따옴표\"\n",
    "c = \"\"\"문자열 정의 방법(3) -\n",
    "연속으로 3개의 큰 따옴표\n",
    "\"\"\"\n",
    "print(a, b, c, sep=\", \")\n",
    "print(type(a), type(b), type(c), sep=\", \")"
   ]
  },
  {
   "cell_type": "markdown",
   "metadata": {},
   "source": [
    "#### 2) 문자열에 작은/큰 따옴표를 혼합해서 정의하는 방법"
   ]
  },
  {
   "cell_type": "code",
   "execution_count": 42,
   "metadata": {},
   "outputs": [
    {
     "name": "stdout",
     "output_type": "stream",
     "text": [
      "Python's simple program language\n",
      "Python\"s simple program language\n",
      "Python's simple program language\n",
      "Python\"s simple program language\n"
     ]
    }
   ],
   "source": [
    "a = \"Python's simple program language\"\n",
    "b = 'Python\"s simple program language'\n",
    "c = 'Python\\'s simple program language'\n",
    "d = \"Python\\\"s simple program language\"\n",
    "print(a)\n",
    "print(b)\n",
    "print(c)\n",
    "print(d)"
   ]
  },
  {
   "cell_type": "markdown",
   "metadata": {},
   "source": [
    "#### 3) 문자열 연산하기\n",
    "\n",
    "파이썬에서는 문자열을 연산할 때 자료형이 틀릴 경우에 에러가 발생된다."
   ]
  },
  {
   "cell_type": "code",
   "execution_count": 45,
   "metadata": {},
   "outputs": [
    {
     "name": "stdout",
     "output_type": "stream",
     "text": [
      "문자1\n",
      "Python is a simple program language\n"
     ]
    }
   ],
   "source": [
    "# 1. 문자열 연결하기\n",
    "# a = '문자' + 1 # 자바에서는 '문자1'로 연결하지만 파이썬에서는 자료형이 틀리기 때문에 에러\n",
    "a = \"문자\" + '1'\n",
    "print(a)\n",
    "\n",
    "head = \"Python \"\n",
    "tail = 'is a simple program language'\n",
    "print(head + tail)"
   ]
  },
  {
   "cell_type": "code",
   "execution_count": 48,
   "metadata": {},
   "outputs": [
    {
     "name": "stdout",
     "output_type": "stream",
     "text": [
      "Python Python Python Python Python Python Python Python Python Python \n",
      "is a simple program languageis a simple program language\n",
      "--------------------------------------------------------------------------------\n"
     ]
    }
   ],
   "source": [
    "# 2. 문자열 곱하기\n",
    "print(head * 10)\n",
    "print(tail * 2)\n",
    "print('-'*80)"
   ]
  },
  {
   "cell_type": "markdown",
   "metadata": {},
   "source": [
    "#### 4) 문자열 인덱싱/슬라이싱\n",
    "\n",
    "1. 인덱싱이란? `문자열의 특정위치를 가리키는 것`이다.\n",
    "2. 슬라이싱이란? `문자열의 특정위치의 문자(열)을 추출`하는 것이다.\n",
    "3. 인덱스의 설정은 `대괄호[]`로 구분한다."
   ]
  },
  {
   "cell_type": "code",
   "execution_count": 62,
   "metadata": {},
   "outputs": [
    {
     "name": "stdout",
     "output_type": "stream",
     "text": [
      "안녕하세요 파이썬\n",
      "안\n",
      "썬\n",
      "썬\n",
      "요\n",
      "요\n",
      "\n",
      "안\n",
      "썬\n",
      "썬\n",
      "요\n",
      "요\n"
     ]
    }
   ],
   "source": [
    "# 1. 문자열의 인덱싱\n",
    "# 인덱스가 양수일 경우 처음부터 시작되고 음수일 경우에는 맨 뒤에서부터 시작된다.\n",
    "a = \"안녕하세요 파이썬\"\n",
    "print(a)\n",
    "print(a[0])\n",
    "print(a[-1]) \n",
    "print(a[8]) # print(a[-1]) 와 동일\n",
    "print(a[4])\n",
    "print(a[-5])# print(a[4])와 동일\n",
    "print()\n",
    "\n",
    "print(\"안녕하세요 파이썬\"[0])\n",
    "print(\"안녕하세요 파이썬\"[-1])\n",
    "print(\"안녕하세요 파이썬\"[8])\n",
    "print(\"안녕하세요 파이썬\"[4])\n",
    "print(\"안녕하세요 파이썬\"[-5])\n",
    "\n",
    "# print(\"안녕하세요 파이썬\"[100]) # 인덱스범위를 벗어난 경우에는 IndexError가 발생한다."
   ]
  },
  {
   "cell_type": "code",
   "execution_count": 73,
   "metadata": {},
   "outputs": [
    {
     "name": "stdout",
     "output_type": "stream",
     "text": [
      "2020\n",
      "20200909파이썬\n",
      "2020\n",
      "2020\n",
      "\n",
      "파이썬\n",
      "파이썬\n",
      "\n",
      "문자열의 길이 =  11\n",
      "파이썬\n",
      "20200909파이썬\n"
     ]
    }
   ],
   "source": [
    "# 2. 문자열의 슬라이싱\n",
    "# 문자열에서 특정의 문자열을 잘라내는 것을 의미한다. 즉, 문자(or 문자열)를 추출하는 행위\n",
    "a = '20200909파이썬'\n",
    "\n",
    "print(a[0]+a[1]+a[2]+a[3]) # 년도추출, 인덱싱\n",
    "\n",
    "# 슬라이싱은 대괄호[시작:끝-1]\n",
    "print(a[:])# 시작이 생략되면 처음 부터추출 의미, 끝이 생략되면 마지막을 의미\n",
    "print(a[0:4]) # 년도추출, 슬라이싱\n",
    "print(a[:4]) \n",
    "print()\n",
    "\n",
    "print(a[8:]) # 파이썬만 추출\n",
    "print(a[-3:])\n",
    "print()\n",
    "\n",
    "# len() : 문자열의 길이를 반환하는 함수\n",
    "print(\"문자열의 길이 = \", len(a))\n",
    "print(a[8:len(a)]) # 파이썬\n",
    "print(a[:len(a)])"
   ]
  },
  {
   "cell_type": "code",
   "execution_count": 80,
   "metadata": {},
   "outputs": [
    {
     "name": "stdout",
     "output_type": "stream",
     "text": [
      "년= 2020 월= 09 일= 09\n",
      "파이썬\n",
      "0909\n"
     ]
    }
   ],
   "source": [
    "# 실습1\n",
    "a = '20200909파이썬'\n",
    "\n",
    "# 1) 년월일 추출\n",
    "# 년=2020, 월=09, 일=09\n",
    "year = a[:4]\n",
    "month = a[4:6]\n",
    "day = a[6:8]\n",
    "print('년=', year, '월=',month, '일=', day)\n",
    "\n",
    "# 2) 파이썬 추출\n",
    "print(a[8:])\n",
    "\n",
    "# 3) 월일 추출\n",
    "print(a[4:8])"
   ]
  },
  {
   "cell_type": "markdown",
   "metadata": {},
   "source": [
    "#### 5) 문자열 바꾸기\n",
    "\n",
    "1. 파이썬에서는 문자열과 튜플자료형은 직접 변경이 불가능하다.\n",
    "2. 변경할 수 없는 자료형은 `immutable자료형`이라 한다."
   ]
  },
  {
   "cell_type": "code",
   "execution_count": 86,
   "metadata": {},
   "outputs": [
    {
     "name": "stdout",
     "output_type": "stream",
     "text": [
      "P y thon\n",
      "Python\n"
     ]
    }
   ],
   "source": [
    "a = 'Pithon'\n",
    "a\n",
    "# a[1] = 'y' # TypeError, 문자열은 변경할 수 없기 때문에 에러발생\n",
    "\n",
    "# 문자열수정\n",
    "print(a[:1], 'y', a[2:])\n",
    "a = a[:1] + 'y' + a[2:]\n",
    "print(a)"
   ]
  },
  {
   "cell_type": "markdown",
   "metadata": {},
   "source": [
    "#### 6) 문자열 포맷팅\n",
    "\n",
    "<table align=\"left\" style=\"width:30%\" border=\"1\">\n",
    "    <caption><h3>문자열포맷코드</h3></caption>\n",
    "  <tr>\n",
    "    <th>코드</th>\n",
    "    <th>설명</th>\n",
    "  </tr>\n",
    "  <tr>\n",
    "    <td>%s</td>\n",
    "    <td>문자열 (String)</td>\n",
    "  </tr>\n",
    "  <tr>\n",
    "    <td>%c</td>\n",
    "    <td>한 개의 문자(Character)</td>\n",
    "  </tr>\n",
    "  <tr>\n",
    "    <td>%d</td>\n",
    "    <td>정수 (Integer)</td>\n",
    "  </tr> \n",
    "  <tr>\n",
    "    <td>%f</td>\n",
    "    <td>실수(float)</td>\n",
    "  </tr>  \n",
    "  <tr>\n",
    "    <td>%o</td>\n",
    "    <td>8진수</td>\n",
    "  </tr> \n",
    "  <tr>\n",
    "    <td>%x</td>\n",
    "    <td>16진수</td>\n",
    "  </tr>  \n",
    "  <tr>\n",
    "    <td>%%</td>\n",
    "    <td>퍼센트(%)문자</td>\n",
    "  </tr>    \n",
    "</table>"
   ]
  },
  {
   "cell_type": "code",
   "execution_count": 100,
   "metadata": {},
   "outputs": [
    {
     "name": "stdout",
     "output_type": "stream",
     "text": [
      "오늘의 날씨는 영상 5도 입니다\n",
      "오늘의 날씨는 영하 5도 입니다\n",
      "\n",
      "오늘의 날씨는 영상 5도 입니다\n",
      "오늘의 날씨는 영하 -5도 입니다\n",
      "오늘의 날씨는 영하 5도 입니다\n",
      "오늘의 날씨는 영하 5.000000도 입니다\n",
      "오늘의 날씨는 영하 5.000000도 입니다\n",
      "\n",
      "오늘의 날씨는 영상 -5도 입니다\n",
      "오늘의 날씨는 영상 10도 입니다\n",
      "오늘의 날씨는 영상 10도 입니다\n",
      "\n",
      "내 나이는 40살입니다. 공부를 오일동안 했습니다!\n"
     ]
    },
    {
     "ename": "TypeError",
     "evalue": "%d format: a number is required, not str",
     "output_type": "error",
     "traceback": [
      "\u001b[1;31m---------------------------------------------------------------------------\u001b[0m",
      "\u001b[1;31mTypeError\u001b[0m                                 Traceback (most recent call last)",
      "\u001b[1;32m<ipython-input-100-87a33d74c0ed>\u001b[0m in \u001b[0;36m<module>\u001b[1;34m\u001b[0m\n\u001b[0;32m     27\u001b[0m \u001b[0mday\u001b[0m \u001b[1;33m=\u001b[0m \u001b[1;34m\"오\"\u001b[0m\u001b[1;33m\u001b[0m\u001b[1;33m\u001b[0m\u001b[0m\n\u001b[0;32m     28\u001b[0m \u001b[0mprint\u001b[0m\u001b[1;33m(\u001b[0m\u001b[1;34m\"내 나이는 %d살입니다. 공부를 %s일동안 했습니다!\"\u001b[0m \u001b[1;33m%\u001b[0m \u001b[1;33m(\u001b[0m\u001b[0mage\u001b[0m\u001b[1;33m,\u001b[0m \u001b[0mday\u001b[0m\u001b[1;33m)\u001b[0m\u001b[1;33m)\u001b[0m\u001b[1;33m\u001b[0m\u001b[1;33m\u001b[0m\u001b[0m\n\u001b[1;32m---> 29\u001b[1;33m \u001b[0mprint\u001b[0m\u001b[1;33m(\u001b[0m\u001b[1;34m\"내 나이는 %d살입니다. 공부를 %s일동안 했습니다!\"\u001b[0m \u001b[1;33m%\u001b[0m \u001b[1;33m(\u001b[0m\u001b[0mday\u001b[0m\u001b[1;33m,\u001b[0m \u001b[0mage\u001b[0m\u001b[1;33m)\u001b[0m\u001b[1;33m)\u001b[0m\u001b[1;33m\u001b[0m\u001b[1;33m\u001b[0m\u001b[0m\n\u001b[0m",
      "\u001b[1;31mTypeError\u001b[0m: %d format: a number is required, not str"
     ]
    }
   ],
   "source": [
    "# 오늘의 날씨는 -5도 입니다\n",
    "\n",
    "print(\"오늘의 날씨는 영상 5도 입니다\")\n",
    "print(\"오늘의 날씨는 영하 5도 입니다\")\n",
    "print()\n",
    "\n",
    "# 1. %d : 숫자형 포매팅\n",
    "degree = 5\n",
    "print(\"오늘의 날씨는 영상 %d도 입니다\" % degree)\n",
    "degree = -5\n",
    "print(\"오늘의 날씨는 영하 %d도 입니다\" % degree)\n",
    "print(\"오늘의 날씨는 영하 %d도 입니다\" % 5)\n",
    "# print(\"오늘의 날씨는 영하 %d도 입니다\" % \"5\") # TypeError발생\n",
    "print(\"오늘의 날씨는 영하 %f도 입니다\" % 5)\n",
    "print(\"오늘의 날씨는 영하 %f도 입니다\" % 5.0)\n",
    "print()\n",
    "\n",
    "# 2. %s : 문자형 포매팅\n",
    "print(\"오늘의 날씨는 영상 %s도 입니다\" % degree)\n",
    "print(\"오늘의 날씨는 영상 %s도 입니다\" % \"10\")\n",
    "print(\"오늘의 날씨는 영상 %s도 입니다\" % 10)\n",
    "print()\n",
    "\n",
    "# 3. 두개 이상의 값을 포매팅\n",
    "age = 40\n",
    "day = \"오\"\n",
    "print(\"내 나이는 %d살입니다. 공부를 %s일동안 했습니다!\" % (age, day))\n",
    "#print(\"내 나이는 %d살입니다. 공부를 %s일동안 했습니다!\" % (day, age)) # TypeError발생"
   ]
  },
  {
   "cell_type": "markdown",
   "metadata": {},
   "source": [
    "#### 7) 포맷코드와 숫자와 함께 사용하기"
   ]
  },
  {
   "cell_type": "code",
   "execution_count": 115,
   "metadata": {},
   "outputs": [
    {
     "name": "stdout",
     "output_type": "stream",
     "text": [
      "        Hi 10\n",
      "Hi         10\n",
      "3.1416 6\n"
     ]
    }
   ],
   "source": [
    "# 1. 정렬과 공백\n",
    "# %10s로 정의된 경우 정의된 문자열의 크기가 10자리보다 작을 경우에 앞의 나머지 공간은\n",
    "# 공백으로 채워지고 오른쪽으로 정렬이 된다.\n",
    "\n",
    "# 오른쪽 정렬\n",
    "a = '%10s' % 'Hi'\n",
    "print(a, len(a))\n",
    "\n",
    "# 왼쪽 정렬\n",
    "a = '%-10s' % 'Hi'\n",
    "print(a, len(a))\n",
    "\n",
    "# 2. 소수점표현하기\n",
    "a = '%0.4f' % 3.141592\n",
    "print(a, len(a))"
   ]
  },
  {
   "cell_type": "code",
   "execution_count": 128,
   "metadata": {},
   "outputs": [
    {
     "name": "stdout",
     "output_type": "stream",
     "text": [
      "오늘의 날씨는 10도 입니다.\n",
      "오늘의 날씨는 10도 입니다.\n",
      "오늘의 날씨는 10도 입니다.\n",
      "\n",
      "제 나이는 10살 입니다. 오늘 공부는 다섯시간동안 했습니다.\n",
      "제 나이는 다섯살 입니다. 오늘 공부는 10시간동안 했습니다.\n",
      "\n",
      "제 나이는 10살 입니다. 오늘 공부는 다섯시간동안 했습니다.\n",
      "제 나이는 10살 입니다. 오늘 공부는 다섯시간동안 했습니다.\n",
      "제 나이는 10살 입니다. 오늘 공부는 다섯시간동안 했습니다.\n",
      "제 나이는 10살 입니다. 오늘 공부는 다섯시간동안 했습니다.\n",
      "\n"
     ]
    }
   ],
   "source": [
    "# 3. format()함수 사용하기 : 문자열.format()\n",
    "# help(format)\n",
    "print(\"오늘의 날씨는 %d도 입니다.\" % 10)\n",
    "print(\"오늘의 날씨는 {0}도 입니다.\".format(10))\n",
    "print(\"오늘의 날씨는 {0}도 입니다.\".format(\"10\"))\n",
    "print()\n",
    "\n",
    "# 4. 두 개이상의 값을 가진 format()함수 사용하기 \n",
    "age = 10\n",
    "time = \"다섯\"\n",
    "print(\"제 나이는 {0}살 입니다. 오늘 공부는 {1}시간동안 했습니다.\".format(age, time))\n",
    "print(\"제 나이는 {0}살 입니다. 오늘 공부는 {1}시간동안 했습니다.\".format(time, age))\n",
    "print()\n",
    "\n",
    "# 5. 이름으로 format()함수 사용하기\n",
    "print(\"제 나이는 {x}살 입니다. 오늘 공부는 {y}시간동안 했습니다.\".format(x=age, y=time))\n",
    "print(\"제 나이는 {x}살 입니다. 오늘 공부는 {y}시간동안 했습니다.\".format(y=time, x=age))\n",
    "print(\"제 나이는 {age}살 입니다. 오늘 공부는 {time}시간동안 했습니다.\".format(age=10, time=\"다섯\"))\n",
    "print(\"제 나이는 {age}살 입니다. 오늘 공부는 {time}시간동안 했습니다.\".format(time=\"다섯\", age=10))\n",
    "print()"
   ]
  },
  {
   "cell_type": "code",
   "execution_count": 145,
   "metadata": {},
   "outputs": [
    {
     "name": "stdout",
     "output_type": "stream",
     "text": [
      "Hi         10\n",
      "Hi         10\n",
      "        Hi 10\n",
      "        Hi 10\n",
      "    Hi     10\n",
      "Hi******** 10\n",
      "********Hi 10\n",
      "....Hi.... 10\n",
      "\n",
      "  3.171592\n",
      "    3.1716\n",
      "{ and }\n"
     ]
    }
   ],
   "source": [
    "# 6. format()함수와 정렬하기\n",
    "# 1) 왼쪽정렬\n",
    "a = '%-10s' % 'Hi'\n",
    "print(a, len(a))\n",
    "\n",
    "b = '{0:10}'.format('Hi') \n",
    "# b = '{0:<10}'.format('Hi')\n",
    "print(b, len(b))\n",
    "\n",
    "# 2) 오른쪽정렬\n",
    "a = '%10s' % 'Hi'\n",
    "print(a, len(a))\n",
    "\n",
    "b = '{0:>10}'.format('Hi')\n",
    "print(b, len(b))\n",
    "\n",
    "# 3) 가운데정렬\n",
    "b = '{0:^10}'.format('Hi')\n",
    "print(b, len(b))\n",
    "\n",
    "# 7. 공백채우기\n",
    "c = '{0:*<10}'.format('Hi')\n",
    "print(c, len(c))\n",
    "c = '{0:*>10}'.format('Hi')\n",
    "print(c, len(c))\n",
    "c = '{0:.^10}'.format('Hi')\n",
    "print(c, len(c))\n",
    "print()\n",
    "\n",
    "# 8. format()함수로 소수점표현하기\n",
    "pi = 3.171592\n",
    "print('{0:10}'.format(pi))\n",
    "print('{0:10.4f}'.format(pi))\n",
    "\n",
    "# 9. 중괄호{}을 표현하기 ({값})\n",
    "# \"{ and }\"을 표현하려면 중괄호를 연속해서 {{}} 사용한다.\n",
    "f = '{{ and }}'.format()\n",
    "print(f)"
   ]
  },
  {
   "cell_type": "markdown",
   "metadata": {},
   "source": [
    "#### 8) f문자열포매팅\n",
    "\n",
    "* 파이썬 2.x, 파이썬 3.6버전 미만에서는 사용할 수 없는 기능이다.\n",
    "* 사용하는 방법 문자열앞에 f접두사를 붙이면 사용할 수 있다. 즉, f'문자열'"
   ]
  },
  {
   "cell_type": "code",
   "execution_count": 167,
   "metadata": {},
   "outputs": [
    {
     "name": "stdout",
     "output_type": "stream",
     "text": [
      "내 이름은 소향입니다. 나이는 42입니다\n",
      "내 이름은 {name}입니다. 나이는 {age}입니다\n",
      "내 이름은 소향입니다. 나이는 42입니다\n",
      "\n",
      "{\"Hi\":<10}\n",
      "Hi********\n",
      "********Hi\n",
      "****Hi****\n",
      "\n",
      "{pi:0.4f}\n",
      "3.1716\n",
      "{ and }\n",
      "<class 'dict'>\n",
      "내 이름은 소향입니다. 나이는 42입니다\n",
      "내 이름은 홍길동입니다. 나이는 100입니다\n"
     ]
    }
   ],
   "source": [
    "name = '소향'\n",
    "age = 42\n",
    "a = '내 이름은 {name}입니다. 나이는 {age}입니다'.format(name=name, age=age)\n",
    "b = '내 이름은 {name}입니다. 나이는 {age}입니다'\n",
    "c = f'내 이름은 {name}입니다. 나이는 {age}입니다'\n",
    "print(a)\n",
    "print(b)\n",
    "print(c)\n",
    "print()\n",
    "\n",
    "# 정렬하기\n",
    "print('{\"Hi\":<10}')\n",
    "print(f'{\"Hi\":*<10}')\n",
    "print(f'{\"Hi\":*>10}')\n",
    "print(f'{\"Hi\":*^10}')\n",
    "print()\n",
    "\n",
    "# 소수점\n",
    "print('{pi:0.4f}')\n",
    "print(f'{pi:0.4f}')\n",
    "\n",
    "# { and }\n",
    "print(f'{{ and }}')\n",
    "\n",
    "# f문자열과 dict(딕셔너리, dictionary)와 사용하기\n",
    "# list [], tuple (), dict {}로 정의한다.\n",
    "# dict자료형은 자바에서 map자료형 즉, 키와 값이 한쌍으로 이루어진 자료형이다.\n",
    "d = {'name':'홍길동', 'age':100}\n",
    "print(type(d))\n",
    "# d?\n",
    "print(f'내 이름은 {name}입니다. 나이는 {age}입니다')\n",
    "print(f\"내 이름은 {d['name']}입니다. 나이는 {d['age']}입니다\")"
   ]
  },
  {
   "cell_type": "markdown",
   "metadata": {},
   "source": [
    "#### 9) 문자열 관련함수\n",
    "\n",
    "* count() : 문자열의 갯수를 리턴\n",
    "* find()  : 특정문자의 위치를 리턴 함수(찾는 문자가 없을 경우 `-1`을 리턴)\n",
    "* index() : 특정문자의 위치를 리턴 함수(찾는 문자가 없을 경우 `에러`가 발생)\n",
    "* join()  : 정의된 문자로 문자열(반복자)을 연결 \n",
    "* upper() : 소문자를 대문자로 변환\n",
    "* lower() : 대문자를 소문자로 변환\n",
    "* lstrip(): 왼쪽 공백을 제거\n",
    "* rstrip(): 오른쪽 공백을 제거\n",
    "* strip() : 양쪽 공백을 제거\n",
    "* replace(): 문자열 변경\n",
    "* split() : 문자열을 자르기(나누기)"
   ]
  },
  {
   "cell_type": "code",
   "execution_count": 179,
   "metadata": {},
   "outputs": [
    {
     "name": "stdout",
     "output_type": "stream",
     "text": [
      "문자 o의 갯수 = 3\n",
      "문자 o의 갯수 = 3\n",
      "문자 i의 갯수 = 2\n",
      "문자 Life의 갯수 = 1\n",
      "문자 life의 갯수 = 0\n",
      "문자 short의 갯수 = 1\n",
      "문자 short의 갯수 = 1\n",
      "문자 short의 갯수 = 0\n"
     ]
    }
   ],
   "source": [
    "# 1. count() : 문자열의 갯수를 리턴\n",
    "# 매개값으로 특정문자를 전달해야 한다. 전달문자가 없을 경우 에러가 발생\n",
    "\n",
    "a = 'Life is too short'\n",
    "print('문자 o의 갯수 =', a.count('o'))\n",
    "print('문자 o의 갯수 =', 'Life is too short'.count('o'))\n",
    "print('문자 i의 갯수 =', a.count('i'))\n",
    "print('문자 Life의 갯수 =', a.count('Life'))\n",
    "print('문자 life의 갯수 =', a.count('life'))\n",
    "print('문자 short의 갯수 =', a.count('short'))\n",
    "print('문자 short의 갯수 =', a[:].count('short'))\n",
    "print('문자 short의 갯수 =', a[:10].count('short'))"
   ]
  },
  {
   "cell_type": "code",
   "execution_count": 189,
   "metadata": {},
   "outputs": [
    {
     "name": "stdout",
     "output_type": "stream",
     "text": [
      "문자 a의 위치 = 10\n",
      "문자 l의 위치 = 16\n",
      "문자 .의 위치 = 35\n",
      "문자 x의 위치 = -1\n"
     ]
    }
   ],
   "source": [
    "# 2. find()  : 특정문자의 위치를 리턴 함수(찾는 문자가 없을 경우 `-1`을 리턴)\n",
    "# 찾는 문자(열)이 여러개 있을 경우 맨 처음의 문자(열)의 위치를 리턴\n",
    "\n",
    "a = 'Python is a simple program language.'\n",
    "print('문자 a의 위치 =', a.find('a'))\n",
    "print('문자 l의 위치 =', a.find('l'))\n",
    "print('문자 .의 위치 =', a.find('.'))\n",
    "print('문자 x의 위치 =', a.find('x'))"
   ]
  },
  {
   "cell_type": "code",
   "execution_count": 190,
   "metadata": {},
   "outputs": [
    {
     "name": "stdout",
     "output_type": "stream",
     "text": [
      "문자 a의 위치 = 10\n",
      "문자 l의 위치 = 16\n",
      "문자 .의 위치 = 35\n"
     ]
    },
    {
     "ename": "ValueError",
     "evalue": "substring not found",
     "output_type": "error",
     "traceback": [
      "\u001b[1;31m---------------------------------------------------------------------------\u001b[0m",
      "\u001b[1;31mValueError\u001b[0m                                Traceback (most recent call last)",
      "\u001b[1;32m<ipython-input-190-d4e1c1f90199>\u001b[0m in \u001b[0;36m<module>\u001b[1;34m\u001b[0m\n\u001b[0;32m      3\u001b[0m \u001b[0mprint\u001b[0m\u001b[1;33m(\u001b[0m\u001b[1;34m'문자 l의 위치 ='\u001b[0m\u001b[1;33m,\u001b[0m \u001b[0ma\u001b[0m\u001b[1;33m.\u001b[0m\u001b[0mindex\u001b[0m\u001b[1;33m(\u001b[0m\u001b[1;34m'l'\u001b[0m\u001b[1;33m)\u001b[0m\u001b[1;33m)\u001b[0m\u001b[1;33m\u001b[0m\u001b[1;33m\u001b[0m\u001b[0m\n\u001b[0;32m      4\u001b[0m \u001b[0mprint\u001b[0m\u001b[1;33m(\u001b[0m\u001b[1;34m'문자 .의 위치 ='\u001b[0m\u001b[1;33m,\u001b[0m \u001b[0ma\u001b[0m\u001b[1;33m.\u001b[0m\u001b[0mindex\u001b[0m\u001b[1;33m(\u001b[0m\u001b[1;34m'.'\u001b[0m\u001b[1;33m)\u001b[0m\u001b[1;33m)\u001b[0m\u001b[1;33m\u001b[0m\u001b[1;33m\u001b[0m\u001b[0m\n\u001b[1;32m----> 5\u001b[1;33m \u001b[0mprint\u001b[0m\u001b[1;33m(\u001b[0m\u001b[1;34m'문자 x의 위치 ='\u001b[0m\u001b[1;33m,\u001b[0m \u001b[0ma\u001b[0m\u001b[1;33m.\u001b[0m\u001b[0mindex\u001b[0m\u001b[1;33m(\u001b[0m\u001b[1;34m'x'\u001b[0m\u001b[1;33m)\u001b[0m\u001b[1;33m)\u001b[0m\u001b[1;33m\u001b[0m\u001b[1;33m\u001b[0m\u001b[0m\n\u001b[0m",
      "\u001b[1;31mValueError\u001b[0m: substring not found"
     ]
    }
   ],
   "source": [
    "# 3. index() : 특정문자의 위치를 리턴 함수(찾는 문자가 없을 경우 `에러`가 발생)\n",
    "print('문자 a의 위치 =', a.index('a'))\n",
    "print('문자 l의 위치 =', a.index('l'))\n",
    "print('문자 .의 위치 =', a.index('.'))\n",
    "print('문자 x의 위치 =', a.index('x'))"
   ]
  },
  {
   "cell_type": "code",
   "execution_count": 196,
   "metadata": {},
   "outputs": [
    {
     "name": "stdout",
     "output_type": "stream",
     "text": [
      "abcd\n",
      "a,b,c,d\n",
      "a,b,c,d\n",
      "a.b.c.d\n",
      "a*-*b*-*c*-*d\n"
     ]
    }
   ],
   "source": [
    "# 4. join(iterable)  : 정의된 문자로 문자열(반복자)을 연결 \n",
    "# a.join?\n",
    "print('abcd')\n",
    "print('a,b,c,d')\n",
    "\n",
    "a = ','\n",
    "print(a.join('abcd'))\n",
    "print('.'.join('abcd'))\n",
    "# a*-*b*-*c*-*d\n",
    "print('*-*'.join('abcd'))"
   ]
  },
  {
   "cell_type": "code",
   "execution_count": 199,
   "metadata": {},
   "outputs": [
    {
     "name": "stdout",
     "output_type": "stream",
     "text": [
      "PYTHON IS A SIMPLE PROGRAM LANGUAGE.\n"
     ]
    }
   ],
   "source": [
    "# 5. upper() : 소문자를 대문자로 변환\n",
    "# 매개변수가 없고 특정문자열을 대문자로 변경\n",
    "a = 'Python is a simple program language.'\n",
    "# a.lower?\n",
    "print(a.upper())"
   ]
  },
  {
   "cell_type": "code",
   "execution_count": 203,
   "metadata": {},
   "outputs": [
    {
     "name": "stdout",
     "output_type": "stream",
     "text": [
      "python is a simple program language.\n"
     ]
    },
    {
     "data": {
      "text/plain": [
       "'python is a simple program language.'"
      ]
     },
     "execution_count": 203,
     "metadata": {},
     "output_type": "execute_result"
    }
   ],
   "source": [
    "# 6. lower() : 대문자를 소문자로 변환\n",
    "a = 'Python Is A Simple Program Language.'\n",
    "# 매개변수가 없고 특정문자열을 소문자로 변경\n",
    "print(a.lower())\n",
    "\n",
    "a.lower().upper().lower()"
   ]
  },
  {
   "cell_type": "code",
   "execution_count": 211,
   "metadata": {},
   "outputs": [
    {
     "name": "stdout",
     "output_type": "stream",
     "text": [
      "HI \n",
      " HI\n",
      "HI\n",
      "H  I\n"
     ]
    }
   ],
   "source": [
    "# 7. lstrip(), rstrip(), strip(): 왼쪽/오른쪽/양쪽 공백을 제거\n",
    "#a.rstrip?\n",
    "a = '        HI '\n",
    "b = ' HI        '\n",
    "c = '    HI    '\n",
    "d = '    H  I    '\n",
    "\n",
    "print(a.lstrip())\n",
    "print(b.rstrip())\n",
    "print(c.strip())\n",
    "print(d.strip())"
   ]
  },
  {
   "cell_type": "code",
   "execution_count": 221,
   "metadata": {},
   "outputs": [
    {
     "name": "stdout",
     "output_type": "stream",
     "text": [
      "Python is a simple program language.\n",
      "Pithon is a simple program language.\n",
      "Python is a simple program language.\n",
      "Python #s a s#mple program language.\n",
      "Python is a s#mple program language.\n",
      "Python is i s#mple progrim language.\n",
      "Java is i s#mple progrim language.\n"
     ]
    }
   ],
   "source": [
    "# 8. replace(old, new, count=-1): 문자열 변경\n",
    "# 문자열은 immutable자료형이기 때문에 직접 변경할 수 없다.\n",
    "# 변경된 결과를 저장해야지만 최종 반영이 된다.\n",
    "# count : -1이면 전부변경, 지정된 숫자일 경우 지정된 숫자만큼 맨처음부터 변경\n",
    "\n",
    "a = 'Pithon is a simple program language.'\n",
    "#a.replace?\n",
    "print(a.replace('Pithon', 'Python')) # 결과를 리턴만 할 뿐이고 값이 변경되지 않는다.\n",
    "print(a)\n",
    "\n",
    "a = a.replace('Pithon', 'Python')\n",
    "print(a)\n",
    "\n",
    "# 반복변경\n",
    "a = a.replace('i', '#', -1) # count=-1 : 전부변경\n",
    "print(a)\n",
    "\n",
    "a = a.replace('#', 'i', 1) # count=1 : 맨앞의 한개만 변경\n",
    "print(a)\n",
    "\n",
    "a = a.replace('a', 'i', 2) # count=2 : 맨앞부터 지정된 갯수만큼 변경\n",
    "print(a)\n",
    "\n",
    "a = a.replace('Python', 'Java')\n",
    "print(a)"
   ]
  },
  {
   "cell_type": "code",
   "execution_count": 238,
   "metadata": {},
   "outputs": [
    {
     "name": "stdout",
     "output_type": "stream",
     "text": [
      "['Python', 'is', 'a', 'simple', 'program', 'language.']\n",
      "Python is a simple program language.\n",
      "['Python', 'is', 'a', 'simple', 'program', 'language.']\n",
      "<class 'str'> <class 'list'>\n",
      "\n",
      "['Python', 'is', 'a', 'simple', 'program', 'language.']\n",
      "['Python', 'is', 'a simple program language.']\n",
      "\n",
      "['a', 'b', 'c', 'd']\n",
      "['a', 'b', 'c', 'd']\n",
      "['a', 'b', 'c', 'd']\n"
     ]
    }
   ],
   "source": [
    "# 9. split(sep, maxsplit) : 문자열을 자르기(나누기)\n",
    "# a.split?\n",
    "a = 'Python is a simple program language.'\n",
    "\n",
    "# 공백(whitespace)을 기준으로 문자열을 나누기\n",
    "print(a.split())\n",
    "l = a.split()\n",
    "print(a)\n",
    "print(l)\n",
    "print(type(a), type(l))\n",
    "print()\n",
    "\n",
    "print(a.split(None))\n",
    "print(a.split(None, 2))\n",
    "print()\n",
    "\n",
    "# 구분자를 기준으로 나누기\n",
    "a = 'a,b,c,d'\n",
    "print(a.split(','))\n",
    "\n",
    "a = 'a:b:c:d'\n",
    "print(a.split(':'))\n",
    "\n",
    "a = 'a::b::c::d'\n",
    "print(a.split('::'))"
   ]
  },
  {
   "cell_type": "markdown",
   "metadata": {},
   "source": [
    "#### 연습문제"
   ]
  },
  {
   "cell_type": "code",
   "execution_count": 242,
   "metadata": {},
   "outputs": [
    {
     "data": {
      "text/plain": [
       "'3'"
      ]
     },
     "execution_count": 242,
     "metadata": {},
     "output_type": "execute_result"
    }
   ],
   "source": [
    "# 1. 주민번호에서 성별을 나타내는 숫자 출력하기\n",
    "a = '881120-3234567'\n",
    "a[7]"
   ]
  },
  {
   "cell_type": "code",
   "execution_count": 243,
   "metadata": {},
   "outputs": [
    {
     "data": {
      "text/plain": [
       "12"
      ]
     },
     "execution_count": 243,
     "metadata": {},
     "output_type": "execute_result"
    }
   ],
   "source": [
    "# 2. 문자열찾기 : find()\n",
    "# 변수 a에서 short가 시작된 위치를 출력하기\n",
    "a = 'Life is too short, you need python'\n",
    "a.find('short')"
   ]
  },
  {
   "cell_type": "code",
   "execution_count": 248,
   "metadata": {},
   "outputs": [
    {
     "name": "stdout",
     "output_type": "stream",
     "text": [
      "['a', 'b', 'c', 'd']\n",
      "a#b#c#d\n",
      "a#b#c#d\n"
     ]
    }
   ],
   "source": [
    "# 3. 문자열 바꾸기 : split()와 join()\n",
    "# a:b:c:d -> a#b#c#d로 변경\n",
    "a = 'a:b:c:d'\n",
    "b = a.split(':')\n",
    "print(b)\n",
    "\n",
    "c = '#'.join(b)\n",
    "print(c)\n",
    "\n",
    "print('#'.join('a:b:c:d'.split(':')))"
   ]
  },
  {
   "cell_type": "code",
   "execution_count": 249,
   "metadata": {},
   "outputs": [
    {
     "name": "stdout",
     "output_type": "stream",
     "text": [
      "104020000\n"
     ]
    }
   ],
   "source": [
    "# 4. 삼성(samsung)주가 89,000이고 LG주가가 751,000원일경우\n",
    "# 특정 사람이 삼성주식 1000주와 LG주식 20주를 가지고 있을 경우\n",
    "# 주식의 총액을 계산하기\n",
    "# 변수명은 samsung, LG, total로 하기\n",
    "samsung = 89000\n",
    "LG = 751000\n",
    "\n",
    "total = samsung * 1000 + LG * 20\n",
    "print(total)"
   ]
  },
  {
   "cell_type": "code",
   "execution_count": 251,
   "metadata": {},
   "outputs": [
    {
     "name": "stdout",
     "output_type": "stream",
     "text": [
      "11960000.0\n"
     ]
    }
   ],
   "source": [
    "# 5. 4번문제에서 삼성과 LG의 주가각 각각 5%, 10%하락한 경우에 손실액 구하기\n",
    "loss = (samsung * 0.05 * 1000) + (LG * 0.1 * 100)\n",
    "print(loss)"
   ]
  },
  {
   "cell_type": "code",
   "execution_count": 254,
   "metadata": {},
   "outputs": [
    {
     "name": "stdout",
     "output_type": "stream",
     "text": [
      "Python\n",
      "Python\n",
      "Python\n",
      "Python\n",
      "Python\n",
      "Python\n",
      "Python\n",
      "Python\n",
      "Python\n",
      "Python\n",
      "\n"
     ]
    }
   ],
   "source": [
    "# 6. Python이란 문자를 10번 출력하기 단, 각 줄을 바꿔서 출력(10줄)\n",
    "print('Python\\n' * 10)\n",
    "print?"
   ]
  },
  {
   "cell_type": "code",
   "execution_count": 257,
   "metadata": {},
   "outputs": [
    {
     "name": "stdout",
     "output_type": "stream",
     "text": [
      "hi python\n",
      "Hello python\n"
     ]
    }
   ],
   "source": [
    "# 7. a라는 변수에 'hello python'일 경우 a값을 'hi python'으로 변경하기\n",
    "a = 'hello python'\n",
    "a = 'hi ' + a[6:]\n",
    "print(a)\n",
    "print(a.replace('hi', 'Hello'))"
   ]
  },
  {
   "cell_type": "code",
   "execution_count": 259,
   "metadata": {},
   "outputs": [
    {
     "name": "stdout",
     "output_type": "stream",
     "text": [
      "bcdefa\n"
     ]
    }
   ],
   "source": [
    "# 8. x라는 변수에 'abcdef'일 경우 x의 값을 'bcdefa'로 변경하기\n",
    "x = 'abcdef'\n",
    "x = x[1:] + x[0] # 슬라이싱 bcdef, 인덱싱 a\n",
    "print(x)"
   ]
  },
  {
   "cell_type": "code",
   "execution_count": 260,
   "metadata": {},
   "outputs": [
    {
     "data": {
      "text/plain": [
       "'Hello python'"
      ]
     },
     "execution_count": 260,
     "metadata": {},
     "output_type": "execute_result"
    }
   ],
   "source": [
    "# capitalize() : 첫 문자를 대문자로 변경\n",
    "a = 'hello Python'\n",
    "a.capitalize()"
   ]
  }
 ],
 "metadata": {
  "kernelspec": {
   "display_name": "Python 3",
   "language": "python",
   "name": "python3"
  },
  "language_info": {
   "codemirror_mode": {
    "name": "ipython",
    "version": 3
   },
   "file_extension": ".py",
   "mimetype": "text/x-python",
   "name": "python",
   "nbconvert_exporter": "python",
   "pygments_lexer": "ipython3",
   "version": "3.8.3"
  }
 },
 "nbformat": 4,
 "nbformat_minor": 4
}
